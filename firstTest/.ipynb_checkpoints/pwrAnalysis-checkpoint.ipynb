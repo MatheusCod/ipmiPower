{
 "cells": [
  {
   "cell_type": "code",
   "execution_count": 1,
   "metadata": {},
   "outputs": [],
   "source": [
    "import csv\n",
    "import matplotlib.pyplot as plt\n",
    "import matplotlib.figure as fig"
   ]
  },
  {
   "cell_type": "code",
   "execution_count": 3,
   "metadata": {},
   "outputs": [
    {
     "name": "stdout",
     "output_type": "stream",
     "text": [
      "17\n"
     ]
    }
   ],
   "source": [
    "with open('pwr.csv', 'r') as file_in:\n",
    "    read = csv.reader(file_in)\n",
    "    for line in read:\n",
    "        print(len(line))\n",
    "        break"
   ]
  },
  {
   "cell_type": "code",
   "execution_count": null,
   "metadata": {},
   "outputs": [],
   "source": [
    "with open('pwr.csv', 'r') as file_in:\n",
    "    read = csv.reader(file_in)\n",
    "    for line in read:\n",
    "        break\n",
    "    for line in read:\n",
    "        avg.append(int(line[3]))\n",
    "        time_elapsed.append(int(line[11].lstrip('0')))\n",
    "\n",
    "\n",
    "plt.plot(time_elapsed, avg)\n",
    "plt.title(\"POWER9 power consumption\")\n",
    "plt.ylabel('Average power reading in Watts')\n",
    "plt.xlabel('Time in millisecons')\n",
    "fig = plt.gcf()\n",
    "fig.set_size_inches(8, 6)\n",
    "plt.savefig('powerConsumption.png', dpi=100)\n",
    "#plt.show()"
   ]
  },
  {
   "cell_type": "code",
   "execution_count": null,
   "metadata": {},
   "outputs": [],
   "source": []
  },
  {
   "cell_type": "code",
   "execution_count": null,
   "metadata": {},
   "outputs": [],
   "source": []
  }
 ],
 "metadata": {
  "kernelspec": {
   "display_name": "Python 3",
   "language": "python",
   "name": "python3"
  },
  "language_info": {
   "codemirror_mode": {
    "name": "ipython",
    "version": 3
   },
   "file_extension": ".py",
   "mimetype": "text/x-python",
   "name": "python",
   "nbconvert_exporter": "python",
   "pygments_lexer": "ipython3",
   "version": "3.6.9"
  }
 },
 "nbformat": 4,
 "nbformat_minor": 4
}
